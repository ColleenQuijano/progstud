{
  "nbformat": 4,
  "nbformat_minor": 0,
  "metadata": {
    "colab": {
      "name": "PythonBeginners.ipynb",
      "provenance": [],
      "authorship_tag": "ABX9TyO48ZXHxZjqzkiSVVKS6VSV",
      "include_colab_link": true
    },
    "kernelspec": {
      "name": "python3",
      "display_name": "Python 3"
    },
    "language_info": {
      "name": "python"
    }
  },
  "cells": [
    {
      "cell_type": "markdown",
      "metadata": {
        "id": "view-in-github",
        "colab_type": "text"
      },
      "source": [
        "<a href=\"https://colab.research.google.com/github/cocolleen/progstud/blob/main/PythonBeginners.ipynb\" target=\"_parent\"><img src=\"https://colab.research.google.com/assets/colab-badge.svg\" alt=\"Open In Colab\"/></a>"
      ]
    },
    {
      "cell_type": "markdown",
      "source": [
        "##Drawing Shape"
      ],
      "metadata": {
        "id": "3csxOVLtud4n"
      }
    },
    {
      "cell_type": "code",
      "source": [
        "print(\"   /|\")\n",
        "print(\"  / |\")\n",
        "print(\" /  |\")\n",
        "print(\"/___|\")"
      ],
      "metadata": {
        "colab": {
          "base_uri": "https://localhost:8080/"
        },
        "id": "Y6efEYtXukUI",
        "outputId": "59f5b716-3e83-47fe-81e7-8551c9a8d327"
      },
      "execution_count": null,
      "outputs": [
        {
          "output_type": "stream",
          "name": "stdout",
          "text": [
            "   /|\n",
            "  / |\n",
            " /  |\n",
            "/___|\n"
          ]
        }
      ]
    },
    {
      "cell_type": "markdown",
      "source": [
        "##Variables and String"
      ],
      "metadata": {
        "id": "7Ix6Pxsquqix"
      }
    },
    {
      "cell_type": "code",
      "source": [
        "character_name = \"Diluc\"\n",
        "character_age = \"23\"\n",
        "\n",
        "print(\"There once was a man name \"+ character_name + \",\")\n",
        "print(\"he was \" + character_age + \" years old.\" )\n",
        "print(\"He really liked the named \" + character_name)\n",
        "print(\"but didn't like being \" + character_age + \".\")"
      ],
      "metadata": {
        "colab": {
          "base_uri": "https://localhost:8080/"
        },
        "id": "w1eJsCeSuubb",
        "outputId": "a2e1bc18-603b-4d46-eba7-0a803dec5dd4"
      },
      "execution_count": null,
      "outputs": [
        {
          "output_type": "stream",
          "name": "stdout",
          "text": [
            "There once was a man name Diluc,\n",
            "he was 23 years old.\n",
            "He really liked the named Diluc\n",
            "but didn't like being 23.\n"
          ]
        }
      ]
    },
    {
      "cell_type": "markdown",
      "source": [
        "##String"
      ],
      "metadata": {
        "id": "dXdkrBq1u5BF"
      }
    },
    {
      "cell_type": "code",
      "source": [
        "print(\"Zoolandia\")\n",
        "print(\"Zoo\\nlandia\")\n",
        "print(\"Zoo\\\"landia\\\" \")\n",
        "\n"
      ],
      "metadata": {
        "colab": {
          "base_uri": "https://localhost:8080/"
        },
        "id": "EZBA-BxOu6-B",
        "outputId": "a5fae864-7023-416b-9a48-8c44a57d0bbe"
      },
      "execution_count": null,
      "outputs": [
        {
          "output_type": "stream",
          "name": "stdout",
          "text": [
            "Zoolandia\n",
            "Zoo\n",
            "landia\n",
            "Zoo\"landia\" \n"
          ]
        }
      ]
    },
    {
      "cell_type": "code",
      "source": [
        "phrase = \"Egg and Bread\"    #note that this phrase word is interchangeable. any word ccn be used as long as it is mentioned in the print area.\n",
        "print(phrase.lower())\n",
        "print(phrase.islower())\n",
        "\n"
      ],
      "metadata": {
        "colab": {
          "base_uri": "https://localhost:8080/"
        },
        "id": "JyY210Yhvj6w",
        "outputId": "f3a8e714-8749-46fa-9470-10bf611e4902"
      },
      "execution_count": null,
      "outputs": [
        {
          "output_type": "stream",
          "name": "stdout",
          "text": [
            "egg and bread\n",
            "False\n"
          ]
        }
      ]
    },
    {
      "cell_type": "code",
      "source": [
        "\n",
        "\n",
        "phrase = \"banana\"\n",
        "print(phrase.upper())\n",
        "print(phrase.isupper())\n",
        "\n",
        "print('\\n')\n",
        "\n",
        "phrase = \"python\"\n",
        "print(phrase.upper().isupper())\n",
        "\n",
        "print('\\n')\n",
        "\n",
        "egg = \"solve\"\n",
        "print(len(egg))\n",
        "\n",
        "print('\\n')\n",
        "\n",
        "phrase = \"Coffee\"\n",
        "print(phrase[2]) #in string its starts with 0. eg. Coffee, C is 0 and so on.\n",
        "\n",
        "print('\\n')\n",
        "\n"
      ],
      "metadata": {
        "colab": {
          "base_uri": "https://localhost:8080/"
        },
        "id": "DVqkCwYdvshF",
        "outputId": "c688cd73-6e86-4372-c376-a889960aef38"
      },
      "execution_count": null,
      "outputs": [
        {
          "output_type": "stream",
          "name": "stdout",
          "text": [
            "BANANA\n",
            "False\n",
            "\n",
            "\n",
            "True\n",
            "\n",
            "\n",
            "5\n",
            "\n",
            "\n",
            "f\n",
            "\n",
            "\n"
          ]
        }
      ]
    },
    {
      "cell_type": "code",
      "source": [
        "phrase = \"Milk and Coffee\"\n",
        "print(phrase.index(\"l\"))\n",
        "print(phrase.index(\"Coffee\"))\n",
        "\n",
        "print('\\n')\n",
        "\n",
        "phrase = \"Milk and Coffee\"\n",
        "print([phrase.replace(\"Milk\", \"Frappauchino\")])"
      ],
      "metadata": {
        "colab": {
          "base_uri": "https://localhost:8080/"
        },
        "id": "3Y5Z93PCvyNV",
        "outputId": "182bdade-2c09-4445-f737-081d225f21eb"
      },
      "execution_count": null,
      "outputs": [
        {
          "output_type": "stream",
          "name": "stdout",
          "text": [
            "2\n",
            "9\n",
            "\n",
            "\n",
            "['Frappauchino and Coffee']\n"
          ]
        }
      ]
    },
    {
      "cell_type": "markdown",
      "source": [
        "##Working with Numbers"
      ],
      "metadata": {
        "id": "080ksVKgvPGB"
      }
    },
    {
      "cell_type": "code",
      "source": [
        "print(2)\n",
        "print(2.3)\n",
        "print(-1.616)\n",
        "print (3 + 4.3) #any operation can be used (+, -, *, /)\n",
        "print(2 * 1 - 3)\n",
        "print(2 * (1 - 3))\n",
        "print (10 % 3) # % is used to find the remainder\n",
        "\n"
      ],
      "metadata": {
        "colab": {
          "base_uri": "https://localhost:8080/"
        },
        "id": "xnR9rDfhvRND",
        "outputId": "8ee139b1-e3fb-40bf-8e77-3e755339291c"
      },
      "execution_count": null,
      "outputs": [
        {
          "output_type": "stream",
          "name": "stdout",
          "text": [
            "2\n",
            "2.3\n",
            "-1.616\n",
            "7.3\n",
            "-1\n",
            "-4\n",
            "1\n"
          ]
        }
      ]
    },
    {
      "cell_type": "code",
      "source": [
        "x = 4\n",
        "print (x)\n",
        "\n"
      ],
      "metadata": {
        "colab": {
          "base_uri": "https://localhost:8080/"
        },
        "id": "tKkBNY77vZuo",
        "outputId": "e3bdd7ce-2f3d-4b26-876d-2a764edb83a7"
      },
      "execution_count": null,
      "outputs": [
        {
          "output_type": "stream",
          "name": "stdout",
          "text": [
            "4\n"
          ]
        }
      ]
    },
    {
      "cell_type": "code",
      "source": [
        "x = 17 #to print out no. next to a string, the no, must first be set to as string.\n",
        "print(str(x) + \" is my favorite number\")\n",
        "\n",
        "c = -8 #abs is used to find the absolute value\n",
        "print(abs(c))\n",
        "\n"
      ],
      "metadata": {
        "colab": {
          "base_uri": "https://localhost:8080/"
        },
        "id": "bldJvybkvcry",
        "outputId": "ec6038ca-ac9d-4866-ffb4-d7e93003e776"
      },
      "execution_count": null,
      "outputs": [
        {
          "output_type": "stream",
          "name": "stdout",
          "text": [
            "17 is my favorite number\n",
            "8\n"
          ]
        }
      ]
    },
    {
      "cell_type": "code",
      "source": [
        "print(pow(3, 4)) #3 is raised to power the 4\n",
        "print(max(4,6)) #max is used to return/identify the bigger number\n",
        "print(min(5, 3, 1)) #min is used to return/identify the smallest number\n",
        "print(round(3.2)) #round is used to round off a no."
      ],
      "metadata": {
        "colab": {
          "base_uri": "https://localhost:8080/"
        },
        "id": "VuSop9-5vfIg",
        "outputId": "80536505-4733-455a-ad18-38f12c2cead5"
      },
      "execution_count": null,
      "outputs": [
        {
          "output_type": "stream",
          "name": "stdout",
          "text": [
            "81\n",
            "6\n",
            "1\n",
            "3\n"
          ]
        }
      ]
    },
    {
      "cell_type": "markdown",
      "source": [
        "##From math import"
      ],
      "metadata": {
        "id": "6j_REfW5v_PC"
      }
    },
    {
      "cell_type": "code",
      "source": [
        "from math import *\n",
        "s = 67\n",
        "print(floor(3.4)) #floor will chop off the decimal point\n",
        "print(ceil(2.894)) #ceil will round the no. up\n",
        "print(sqrt(36))\n"
      ],
      "metadata": {
        "colab": {
          "base_uri": "https://localhost:8080/"
        },
        "id": "ELhE8agNwA59",
        "outputId": "8aac8c1b-3d90-4008-cff2-2d06ca8c5b4e"
      },
      "execution_count": null,
      "outputs": [
        {
          "output_type": "stream",
          "name": "stdout",
          "text": [
            "3\n",
            "3\n",
            "6.0\n"
          ]
        }
      ]
    },
    {
      "cell_type": "markdown",
      "source": [
        "##Getting Input from the Users"
      ],
      "metadata": {
        "id": "N7HyAiuCwJYi"
      }
    },
    {
      "cell_type": "code",
      "source": [
        "c = input(\"Enter your name: \")\n",
        "d = input (\"Enter Age: \")\n",
        "print (\"hi \" + c + \"!\")\n",
        "print(\"You are\" + d + \" years old.\")"
      ],
      "metadata": {
        "colab": {
          "base_uri": "https://localhost:8080/"
        },
        "id": "zIND--4ZwEkC",
        "outputId": "ee913499-355a-40df-b792-48eec7eaab88"
      },
      "execution_count": null,
      "outputs": [
        {
          "output_type": "stream",
          "name": "stdout",
          "text": [
            "Enter your name: ji\n",
            "Enter Age: 9\n",
            "hi ji!\n",
            "I am 9 years old.\n"
          ]
        }
      ]
    },
    {
      "cell_type": "markdown",
      "source": [
        "##Building a Basic Calculator"
      ],
      "metadata": {
        "id": "z8G4xFMtwSLJ"
      }
    },
    {
      "cell_type": "code",
      "source": [
        "num1 = input(\"enter a no.:\")\n",
        "num2 = input(\"enter another no.:\")\n",
        "result = float(num1) + int(num2) #float is used when the no. has decimal and int is for without\n",
        "print(result)"
      ],
      "metadata": {
        "colab": {
          "base_uri": "https://localhost:8080/"
        },
        "id": "CN46kaVkwUd1",
        "outputId": "abc1c318-df9a-4abb-8422-cf10c05498e9"
      },
      "execution_count": null,
      "outputs": [
        {
          "output_type": "stream",
          "name": "stdout",
          "text": [
            "enter a no.:9\n",
            "enter another no.:2\n",
            "11.0\n"
          ]
        }
      ]
    },
    {
      "cell_type": "markdown",
      "source": [
        "##Mad Libs Game"
      ],
      "metadata": {
        "id": "cp76bqmRwZUY"
      }
    },
    {
      "cell_type": "code",
      "source": [
        "color = input(\"enter a color: \")\n",
        "pluralnoun = input(\"enter a noun: \")\n",
        "name = input(\"enter a name: \")\n",
        "\n",
        "print(\"Roses are \" + color)\n",
        "print(pluralnoun + \" are blue\")\n",
        "print(\"I love \" + name)\n",
        "\n",
        "print(\"\\n\")\n"
      ],
      "metadata": {
        "colab": {
          "base_uri": "https://localhost:8080/"
        },
        "id": "nnPygNGJwb-w",
        "outputId": "3ef7edd9-bd83-4a0c-b90c-264900e39876"
      },
      "execution_count": null,
      "outputs": [
        {
          "output_type": "stream",
          "name": "stdout",
          "text": [
            "enter a color: pink\n",
            "enter a noun: mouse\n",
            "enter a name: kor\n",
            "Roses are pink\n",
            "mouse are blue\n",
            "I love kor\n",
            "\n",
            "\n"
          ]
        }
      ]
    },
    {
      "cell_type": "markdown",
      "source": [
        "##List"
      ],
      "metadata": {
        "id": "vhnTpy8Nwh7F"
      }
    },
    {
      "cell_type": "code",
      "source": [
        "friends = [\"Er\", \"Ma\", \"Je\",\"ka\"]#are used for list\n",
        "\n",
        "print(friends)\n",
        "print(friends[2])\n",
        "print(friends[-1]) #-1 means it stars counting from roght to the left\n",
        "print(friends[1:3])\n"
      ],
      "metadata": {
        "colab": {
          "base_uri": "https://localhost:8080/"
        },
        "id": "GbJaBdUAwqBO",
        "outputId": "20506164-093c-4173-c225-dc9ac3826e05"
      },
      "execution_count": null,
      "outputs": [
        {
          "output_type": "stream",
          "name": "stdout",
          "text": [
            "['Er', 'Ma', 'Je', 'ka']\n",
            "Je\n",
            "ka\n",
            "['Ma', 'Je']\n"
          ]
        }
      ]
    },
    {
      "cell_type": "code",
      "source": [
        "friends = [\"Er\", \"Ma\", \"Je\",\"ka\"]#are used for list\n",
        "\n",
        "friends[1] = \"Co\"\n",
        "print(friends[1])"
      ],
      "metadata": {
        "colab": {
          "base_uri": "https://localhost:8080/"
        },
        "id": "YfjUIuarwu8P",
        "outputId": "4180b64b-a839-48d5-b093-a3a514652301"
      },
      "execution_count": null,
      "outputs": [
        {
          "output_type": "stream",
          "name": "stdout",
          "text": [
            "Co\n"
          ]
        }
      ]
    },
    {
      "cell_type": "markdown",
      "source": [
        "##List Functions"
      ],
      "metadata": {
        "id": "P0aGznTOw3Bw"
      }
    },
    {
      "cell_type": "code",
      "source": [
        "luckynos = [16, 23, 17, 12]\n",
        "friends = [\"Ji\", \"kris\", \"lex\", \"Xi\"]\n",
        "friends.extend(luckynos) #combine the two lists\n",
        "print(friends)"
      ],
      "metadata": {
        "colab": {
          "base_uri": "https://localhost:8080/"
        },
        "id": "Lxpgms0Nw5VV",
        "outputId": "ccefcfea-5a69-46d7-8187-ffc0d3c0ff93"
      },
      "execution_count": null,
      "outputs": [
        {
          "output_type": "stream",
          "name": "stdout",
          "text": [
            "['Ji', 'kris', 'lex', 'Xi', 16, 23, 17, 12]\n"
          ]
        }
      ]
    },
    {
      "cell_type": "code",
      "source": [
        "friends = [\"Ji\", \"kris\", \"lex\", \"Xi\"]\n",
        "friends.append(\"Gri\") #add a specific string to the list\n",
        "print(friends)"
      ],
      "metadata": {
        "colab": {
          "base_uri": "https://localhost:8080/"
        },
        "id": "Y2AalwNlw8-M",
        "outputId": "9093fbc1-c3ef-49db-e2d1-75781a6f9a92"
      },
      "execution_count": null,
      "outputs": [
        {
          "output_type": "stream",
          "name": "stdout",
          "text": [
            "['Ji', 'kris', 'lex', 'Xi', 'Gri']\n"
          ]
        }
      ]
    },
    {
      "cell_type": "code",
      "source": [
        "friends = [\"Ji\", \"kris\", \"lex\", \"Xi\"]\n",
        "friends.insert(1,\"Jo\")\n",
        "print(friends)"
      ],
      "metadata": {
        "colab": {
          "base_uri": "https://localhost:8080/"
        },
        "id": "ZE4Tm5Luw_x-",
        "outputId": "84dce673-d344-4386-dc6f-3b382d3c0dde"
      },
      "execution_count": null,
      "outputs": [
        {
          "output_type": "stream",
          "name": "stdout",
          "text": [
            "['Ji', 'Jo', 'kris', 'lex', 'Xi']\n"
          ]
        }
      ]
    },
    {
      "cell_type": "code",
      "source": [
        "friends = [\"Ji\", \"kris\", \"lex\", \"Xi\"]\n",
        "friends.remove(\"Xi\")\n",
        "print(friends)\n"
      ],
      "metadata": {
        "colab": {
          "base_uri": "https://localhost:8080/"
        },
        "id": "mJUzXtwUxDA5",
        "outputId": "0e56af46-c350-4932-abef-9b9c6ca4163d"
      },
      "execution_count": null,
      "outputs": [
        {
          "output_type": "stream",
          "name": "stdout",
          "text": [
            "['Ji', 'kris', 'lex']\n"
          ]
        }
      ]
    },
    {
      "cell_type": "code",
      "source": [
        "friends = [\"Ji\", \"kris\", \"lex\", \"Xi\"]\n",
        "friends.clear()\n",
        "print(friends)"
      ],
      "metadata": {
        "colab": {
          "base_uri": "https://localhost:8080/"
        },
        "id": "rBrsOMA1xCH5",
        "outputId": "271d962e-fed9-4231-8f42-7c769b87bc41"
      },
      "execution_count": null,
      "outputs": [
        {
          "output_type": "stream",
          "name": "stdout",
          "text": [
            "[]\n"
          ]
        }
      ]
    },
    {
      "cell_type": "code",
      "source": [
        "friends = [\"Ji\", \"kris\", \"lex\", \"Xi\"]\n",
        "friends.pop() #removes the last element on the list\n",
        "print(friends)"
      ],
      "metadata": {
        "colab": {
          "base_uri": "https://localhost:8080/"
        },
        "id": "puVHc-PFxGAW",
        "outputId": "3d24d629-3090-4251-9b40-f16204b80aa8"
      },
      "execution_count": null,
      "outputs": [
        {
          "output_type": "stream",
          "name": "stdout",
          "text": [
            "['Ji', 'kris', 'lex']\n"
          ]
        }
      ]
    },
    {
      "cell_type": "code",
      "source": [
        "friends = [\"Ji\", \"kris\", \"lex\", \"Xi\"]\n",
        "print(friends.index(\"Xi\"))"
      ],
      "metadata": {
        "colab": {
          "base_uri": "https://localhost:8080/"
        },
        "id": "_hLUWTEgxIAJ",
        "outputId": "6413fda3-d824-4cd4-d316-663c86e48369"
      },
      "execution_count": null,
      "outputs": [
        {
          "output_type": "stream",
          "name": "stdout",
          "text": [
            "3\n"
          ]
        }
      ]
    },
    {
      "cell_type": "code",
      "source": [
        "friends = [\"Ji\", \"kris\", \"lex\",\"lex\",\"lex\", \"Xi\"]\n",
        "print(friends.count(\"lex\"))"
      ],
      "metadata": {
        "colab": {
          "base_uri": "https://localhost:8080/"
        },
        "id": "r-iRDyd1xKYt",
        "outputId": "69fb73cc-3bdf-4411-df4e-48b8ed3e64a9"
      },
      "execution_count": null,
      "outputs": [
        {
          "output_type": "stream",
          "name": "stdout",
          "text": [
            "3\n"
          ]
        }
      ]
    },
    {
      "cell_type": "code",
      "source": [
        "friends = [\"Ji\", \"kris\", \"lex\",\"lex\",\"lex\", \"Xi\"]\n",
        "friends.sort()\n",
        "print(friends)"
      ],
      "metadata": {
        "colab": {
          "base_uri": "https://localhost:8080/"
        },
        "id": "vVfKficxxMga",
        "outputId": "f04f4917-126c-4cec-80a0-c5785c236cbd"
      },
      "execution_count": null,
      "outputs": [
        {
          "output_type": "stream",
          "name": "stdout",
          "text": [
            "['Ji', 'Xi', 'kris', 'lex', 'lex', 'lex']\n"
          ]
        }
      ]
    },
    {
      "cell_type": "code",
      "source": [
        "luckynos = [16, 23, 17, 12]\n",
        "luckynos.sort()\n",
        "print(luckynos)\n"
      ],
      "metadata": {
        "colab": {
          "base_uri": "https://localhost:8080/"
        },
        "id": "leOUKS9exOPW",
        "outputId": "af8dcb7e-f6c0-4ef2-e15c-298364918ee9"
      },
      "execution_count": null,
      "outputs": [
        {
          "output_type": "stream",
          "name": "stdout",
          "text": [
            "[12, 16, 17, 23]\n"
          ]
        }
      ]
    },
    {
      "cell_type": "code",
      "source": [
        "luckynos = [16, 23, 17, 12]\n",
        "luckynos.reverse()\n",
        "print(luckynos)\n"
      ],
      "metadata": {
        "colab": {
          "base_uri": "https://localhost:8080/"
        },
        "id": "lQ7O3GqZxWku",
        "outputId": "f81382bd-ec4c-4c67-f085-05ad68507cb5"
      },
      "execution_count": null,
      "outputs": [
        {
          "output_type": "stream",
          "name": "stdout",
          "text": [
            "[12, 17, 23, 16]\n"
          ]
        }
      ]
    },
    {
      "cell_type": "code",
      "source": [
        "luckynos = [16, 23, 17, 12]\n",
        "friends = [\"Ji\", \"kris\", \"lex\", \"Xi\"]\n",
        "friends2 = friends.copy()\n",
        "print(friends2)"
      ],
      "metadata": {
        "colab": {
          "base_uri": "https://localhost:8080/"
        },
        "id": "7kSxYPnSxYAz",
        "outputId": "c5ee8c67-1017-418d-c957-660296dc8140"
      },
      "execution_count": null,
      "outputs": [
        {
          "output_type": "stream",
          "name": "stdout",
          "text": [
            "['Ji', 'kris', 'lex', 'Xi']\n"
          ]
        }
      ]
    },
    {
      "cell_type": "markdown",
      "source": [
        ""
      ],
      "metadata": {
        "id": "hPXJyfGCxRuO"
      }
    }
  ]
}